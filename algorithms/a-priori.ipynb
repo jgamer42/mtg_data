{
 "cells": [
  {
   "cell_type": "code",
   "execution_count": 50,
   "id": "7871382b-3ebf-4768-bf31-079ce7b5762a",
   "metadata": {},
   "outputs": [],
   "source": [
    "import pandas as pd\n",
    "import numpy as np\n",
    "import copy\n",
    "dataset = pd.read_csv(\"data_algoritm_a_priori.csv\")"
   ]
  },
  {
   "cell_type": "code",
   "execution_count": null,
   "id": "0b4f14b5-b28d-4298-be43-758b327b4beb",
   "metadata": {},
   "outputs": [],
   "source": [
    "##Support = freq(A,B)/N\n",
    "## A -> rule A\n",
    "## B -> rule B\n",
    "\n",
    "## Confidence = freq(A,B)/freq(A)\n",
    "\n",
    "\n",
    "## Lift = support/Support(A)xSupport(B)"
   ]
  },
  {
   "cell_type": "code",
   "execution_count": 87,
   "id": "27bc171c-cf98-4f3e-abc2-d53f7ed82f5b",
   "metadata": {},
   "outputs": [],
   "source": [
    "itemsets = {}\n",
    "single_itemsets = []\n",
    "min_suport_threshold = 0.3\n",
    "for col in dataset.columns:\n",
    "    count = dataset[dataset[col]==True]\n",
    "    prob_itemset = count.shape[0]/dataset.shape[0]\n",
    "    if prob_itemset >= min_suport_threshold:\n",
    "        itemsets[col] = {\n",
    "            \"support\":prob_itemset,\n",
    "            \"confidence\":\"N/A\",\n",
    "            \"lift\":\"N/A\",\n",
    "            \"data\":count,\n",
    "        }\n",
    "        single_itemsets.append(col)\n",
    "\n",
    "dual_itemsets = []\n",
    "for base_itemset in single_itemsets:\n",
    "    for complementary in single_itemsets:\n",
    "        if complementary == base_itemset:\n",
    "            continue\n",
    "        count = itemsets[base_itemset][\"data\"][itemsets[base_itemset][\"data\"][complementary]]\n",
    "        support = count.shape[0]/dataset.shape[0]\n",
    "        if support >= min_suport_threshold:\n",
    "            itemsets[f\"{base_itemset}-{complementary}\"] = {\n",
    "                \"support\":support,\n",
    "                \"confidence\":count.shape[0]/itemsets[base_itemset][\"data\"].shape[0],\n",
    "                \"lift\":support/(itemsets[base_itemset][\"support\"]*itemsets[complementary][\"support\"]),\n",
    "                \"data\":count,\n",
    "            }\n",
    "            dual_itemsets.append(f\"{base_itemset}-{complementary}\")\n",
    "third_itemsets = []\n",
    "for base_itemset in dual_itemsets:\n",
    "    s1,s2 = base_itemset.split(\"-\")\n",
    "    for complementary in single_itemsets:\n",
    "        if complementary == s1 or complementary == s2:\n",
    "            continue\n",
    "        count = itemsets[base_itemset][\"data\"][itemsets[base_itemset][\"data\"][complementary]]\n",
    "        support = count.shape[0]/dataset.shape[0]\n",
    "        if support >= min_suport_threshold:\n",
    "            itemsets[f\"{base_itemset}-{complementary}\"] = {\n",
    "                \"support\":support,\n",
    "                \"confidence\":count.shape[0]/itemsets[base_itemset][\"data\"].shape[0],\n",
    "                \"lift\":support/(itemsets[base_itemset][\"support\"]*itemsets[complementary][\"support\"]),\n",
    "                \"data\":count,\n",
    "            }\n",
    "            third_itemsets.append(f\"{base_itemset}-{complementary}\")\n",
    "for base_itemset in third_itemsets:\n",
    "    s1,s2,s3 = base_itemset.split(\"-\")\n",
    "    for complementary in single_itemsets:\n",
    "        if complementary == s1 or complementary == s2 or complementary == s3:\n",
    "            continue\n",
    "        count = itemsets[base_itemset][\"data\"][itemsets[base_itemset][\"data\"][complementary]]\n",
    "        support = count.shape[0]/dataset.shape[0]\n",
    "        if support >= min_suport_threshold:\n",
    "            itemsets[f\"{base_itemset}-{complementary}\"] = {\n",
    "                \"support\":support,\n",
    "                \"confidence\":count.shape[0]/itemsets[base_itemset][\"data\"].shape[0],\n",
    "                \"lift\":support/(itemsets[base_itemset][\"support\"]*itemsets[complementary][\"support\"]),\n",
    "                \"data\":count,\n",
    "            }\n"
   ]
  },
  {
   "cell_type": "code",
   "execution_count": 88,
   "id": "3b241e73-37db-4afb-90b5-54108f1778b2",
   "metadata": {},
   "outputs": [
    {
     "name": "stdout",
     "output_type": "stream",
     "text": [
      "commander_legal 0.9409230319848109 N/A  N/A\n",
      "modern_legal 0.6520373886373594 N/A  N/A\n",
      "pioneer_legal 0.38531473638089675 N/A  N/A\n",
      "pauper_legal 0.3398203592814371 N/A  N/A\n",
      "commander_legal-modern_legal 0.6513801664962757 0.6922778424524642  1.0617149484314083\n",
      "commander_legal-pioneer_legal 0.3851321746750402 0.40931315483119907  1.0622826385404036\n",
      "commander_legal-pauper_legal 0.3398203592814371 0.36115638339154055  1.0627861854870004\n",
      "modern_legal-commander_legal 0.6513801664962757 0.9989920483816777  1.0617149484314083\n",
      "modern_legal-pioneer_legal 0.3850956623338688 0.5906036510247508  1.5327824120407347\n",
      "pioneer_legal-commander_legal 0.3851321746750402 0.9995262010802616  1.0622826385404036\n",
      "pioneer_legal-modern_legal 0.3850956623338688 0.9994314412963139  1.5327824120407347\n",
      "pauper_legal-commander_legal 0.3398203592814371 1.0  1.0627861854870004\n",
      "commander_legal-modern_legal-pioneer_legal 0.38491310062801226 0.5909192825112107  1.5336015644287917\n",
      "commander_legal-pioneer_legal-modern_legal 0.38491310062801226 0.9994311717861206  1.5327819987052453\n",
      "modern_legal-commander_legal-pioneer_legal 0.38491310062801226 0.5909192825112107  1.5336015644287917\n",
      "modern_legal-pioneer_legal-commander_legal 0.38491310062801226 0.9995259315445151  1.0622823520815359\n",
      "pioneer_legal-commander_legal-modern_legal 0.38491310062801226 0.9994311717861206  1.5327819987052453\n",
      "pioneer_legal-modern_legal-commander_legal 0.38491310062801226 0.9995259315445151  1.0622823520815359\n"
     ]
    }
   ],
   "source": [
    "for itemset in itemsets.keys():\n",
    "    print(f\"{itemset} {itemsets[itemset]['support'] } {itemsets[itemset]['confidence']}  {itemsets[itemset]['lift']}\")"
   ]
  },
  {
   "cell_type": "code",
   "execution_count": 83,
   "id": "de1c255a-4908-4003-ab52-4fc0dafda0d5",
   "metadata": {},
   "outputs": [
    {
     "name": "stdout",
     "output_type": "stream",
     "text": [
      "['commander_legal', 'modern_legal', 'pioneer_legal', 'pauper_legal']\n"
     ]
    }
   ],
   "source": [
    "print(single_itemsets)"
   ]
  }
 ],
 "metadata": {
  "kernelspec": {
   "display_name": "Python 3 (ipykernel)",
   "language": "python",
   "name": "python3"
  },
  "language_info": {
   "codemirror_mode": {
    "name": "ipython",
    "version": 3
   },
   "file_extension": ".py",
   "mimetype": "text/x-python",
   "name": "python",
   "nbconvert_exporter": "python",
   "pygments_lexer": "ipython3",
   "version": "3.10.12"
  }
 },
 "nbformat": 4,
 "nbformat_minor": 5
}
